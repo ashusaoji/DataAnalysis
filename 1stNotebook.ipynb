{
 "cells": [
  {
   "cell_type": "markdown",
   "id": "f080b369",
   "metadata": {},
   "source": [
    "# Headding 1\n",
    "\n",
    "## Heading 2\n",
    "\n",
    "### Heading 3\n",
    "\n",
    "#### Heading 4"
   ]
  },
  {
   "cell_type": "code",
   "execution_count": 2,
   "id": "d7d9f52f",
   "metadata": {},
   "outputs": [],
   "source": [
    "# A travel company wants to fly a plane to the Bahamas. Flying the plane costs 5000 dollars. So far, 29 people have signed up for the trip. If the company charges 200 dollars per ticket, what is the profit made by the company? Create variables for each numeric quantity and use appropriate arithmetic operations."
   ]
  },
  {
   "cell_type": "code",
   "execution_count": 3,
   "id": "132be67f",
   "metadata": {},
   "outputs": [],
   "source": [
    "cost = 5000\n",
    "people = 29\n",
    "tictket = 200"
   ]
  },
  {
   "cell_type": "code",
   "execution_count": 4,
   "id": "7679da60",
   "metadata": {},
   "outputs": [
    {
     "name": "stdout",
     "output_type": "stream",
     "text": [
      "5800\n"
     ]
    }
   ],
   "source": [
    "price = people*tictket\n",
    "print(price)"
   ]
  },
  {
   "cell_type": "code",
   "execution_count": 6,
   "id": "b571f54f",
   "metadata": {},
   "outputs": [
    {
     "name": "stdout",
     "output_type": "stream",
     "text": [
      "Profit made by the company is 800 $\n"
     ]
    }
   ],
   "source": [
    "profit = price - cost\n",
    "print(f\"Profit made by the company is {profit} $\")"
   ]
  }
 ],
 "metadata": {
  "kernelspec": {
   "display_name": "Python 3 (ipykernel)",
   "language": "python",
   "name": "python3"
  },
  "language_info": {
   "codemirror_mode": {
    "name": "ipython",
    "version": 3
   },
   "file_extension": ".py",
   "mimetype": "text/x-python",
   "name": "python",
   "nbconvert_exporter": "python",
   "pygments_lexer": "ipython3",
   "version": "3.11.4"
  }
 },
 "nbformat": 4,
 "nbformat_minor": 5
}
