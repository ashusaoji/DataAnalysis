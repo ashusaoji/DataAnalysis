{
 "cells": [
  {
   "cell_type": "markdown",
   "id": "69db5170",
   "metadata": {},
   "source": [
    "## Exercise - Data Analysis for Vacation Planning\n",
    "\n",
    "You're planning a vacation, and you need to decide which city you want to visit. You have shortlisted four cities and identified the return flight cost, daily hotel cost, and weekly car rental cost. While renting a car, you need to pay for entire weeks, even if you return the car sooner.\n",
    "\n",
    "\n",
    "| City | Return Flight (`$`) | Hotel per day (`$`) | Weekly Car Rental  (`$`) | \n",
    "|------|--------------------------|------------------|------------------------|\n",
    "| Paris|       200                |       20         |          200           |\n",
    "| London|      250                |       30         |          120           |\n",
    "| Dubai|       370                |       15         |          80           |\n",
    "| Mumbai|      450                |       10         |          70           |         \n",
    "\n",
    "\n",
    "Answer the following questions using the data above:\n",
    "\n",
    "1. If you're planning a 1-week long trip, which city should you visit to spend the least amount of money?\n",
    "2. How does the answer to the previous question change if you change the trip's duration to four days, ten days or two weeks?\n",
    "3. If your total budget for the trip is `$1000`, which city should you visit to maximize the duration of your trip? Which city should you visit if you want to minimize the duration?\n",
    "4. How does the answer to the previous question change if your budget is `$600`, `$2000`, or `$1500`?\n",
    "\n",
    "*Hint: To answer these questions, it will help to define a function `cost_of_trip` with relevant inputs like flight cost, hotel rate, car rental rate, and duration of the trip. You may find the `math.ceil` function useful for calculating the total cost of car rental.*"
   ]
  },
  {
   "cell_type": "code",
   "execution_count": 1,
   "id": "e9fecb9a",
   "metadata": {},
   "outputs": [],
   "source": [
    "import math"
   ]
  },
  {
   "cell_type": "code",
   "execution_count": 2,
   "id": "414840d3",
   "metadata": {},
   "outputs": [],
   "source": [
    "Paris=[200,20,200,\"Paris\"]\n",
    "London=[250,30,120,\"London\"]\n",
    "Dubai=[370,15,80,\"Dubai\"]\n",
    "Mumbai=[450,10,70,\"Mumbai\"]\n",
    "Cities=[Paris,London,Dubai,Mumbai]"
   ]
  },
  {
   "cell_type": "code",
   "execution_count": 3,
   "id": "fe54ad0b",
   "metadata": {},
   "outputs": [],
   "source": [
    "def cost_of_trip(flight,hotel_cost,car_rent,num_of_days=0):\n",
    "    return flight+(hotel_cost*num_of_days)+(car_rent*math.ceil(num_of_days/7))"
   ]
  },
  {
   "cell_type": "code",
   "execution_count": 4,
   "id": "9ba15e9f",
   "metadata": {},
   "outputs": [],
   "source": [
    "def days_to_visit(days):\n",
    "    costs=[]\n",
    "    for city in Cities:\n",
    "        cost=cost_of_trip(city[0],city[1],city[2],days)\n",
    "        costs.append((cost,city[3]))\n",
    "    min_cost = min(costs)\n",
    "    return min_cost"
   ]
  },
  {
   "cell_type": "code",
   "execution_count": 5,
   "id": "fa159135",
   "metadata": {},
   "outputs": [
    {
     "data": {
      "text/plain": [
       "(540, 'Paris')"
      ]
     },
     "execution_count": 5,
     "metadata": {},
     "output_type": "execute_result"
    }
   ],
   "source": [
    "days_to_visit(7)"
   ]
  },
  {
   "cell_type": "code",
   "execution_count": 6,
   "id": "665f9030",
   "metadata": {},
   "outputs": [
    {
     "data": {
      "text/plain": [
       "(500, 'Paris')"
      ]
     },
     "execution_count": 6,
     "metadata": {},
     "output_type": "execute_result"
    }
   ],
   "source": [
    "days_to_visit(5)"
   ]
  },
  {
   "cell_type": "code",
   "execution_count": 7,
   "id": "aef1623e",
   "metadata": {},
   "outputs": [
    {
     "data": {
      "text/plain": [
       "(680, 'Dubai')"
      ]
     },
     "execution_count": 7,
     "metadata": {},
     "output_type": "execute_result"
    }
   ],
   "source": [
    "days_to_visit(10)"
   ]
  },
  {
   "cell_type": "markdown",
   "id": "40841936",
   "metadata": {},
   "source": [
    "> 3. If your total budget for the trip is `$600`, which city should you visit to maximize the duration of your trip? Which city should you visit if you want to minimize the duration?"
   ]
  },
  {
   "cell_type": "code",
   "execution_count": 8,
   "id": "8a011925",
   "metadata": {},
   "outputs": [],
   "source": [
    "def given_budget(budget,less_days=False):\n",
    "    days=1\n",
    "    cost=0\n",
    "    while cost<budget:\n",
    "        #copy of city cost \n",
    "        cost_before=cost\n",
    "        try:\n",
    "            #copy of costs dictionary, if exists\n",
    "            costs_before=costs.copy()\n",
    "        except:\n",
    "            #if costs dictionary doesn't exist, create an empty dictionary\n",
    "            costs_before={}\n",
    "        costs={}\n",
    "        for city in Cities:\n",
    "            cost = cost_of_trip(city[0],city[1],city[2],days)\n",
    "            costs[cost] = city[3]\n",
    "        if less_days:\n",
    "            cost=max(list(costs.keys()))\n",
    "            ''' The while loop breaks only after cost>600 condition is met.\n",
    "            when the condition is met, the costs dictionary updates to values that are greater than 600 \n",
    "            so we check if it is exceeding, if it does, we return the values from the previous dictionary cost_before. '''\n",
    "            if cost>=budget:\n",
    "                return costs_before[cost_before],days-1\n",
    "        else:   \n",
    "            cost=min(list(costs.keys()))\n",
    "            if cost>=budget:\n",
    "                return costs_before[cost_before],days-1\n",
    "        days+=1"
   ]
  },
  {
   "cell_type": "code",
   "execution_count": 9,
   "id": "aa6dbf49",
   "metadata": {},
   "outputs": [],
   "source": [
    "city_to_stay_maximum_days=given_budget(600)"
   ]
  },
  {
   "cell_type": "code",
   "execution_count": 10,
   "id": "39745b95",
   "metadata": {},
   "outputs": [
    {
     "name": "stdout",
     "output_type": "stream",
     "text": [
      "('Paris', 7)\n"
     ]
    }
   ],
   "source": [
    "print(city_to_stay_maximum_days)"
   ]
  },
  {
   "cell_type": "code",
   "execution_count": 12,
   "id": "3c114ec7",
   "metadata": {},
   "outputs": [],
   "source": [
    "city_to_stay_minimum_days=given_budget(600,less_days=True)"
   ]
  },
  {
   "cell_type": "code",
   "execution_count": 13,
   "id": "0e36bcdf",
   "metadata": {},
   "outputs": [
    {
     "name": "stdout",
     "output_type": "stream",
     "text": [
      "('Mumbai', 7)\n"
     ]
    }
   ],
   "source": [
    "print(city_to_stay_minimum_days)"
   ]
  }
 ],
 "metadata": {
  "kernelspec": {
   "display_name": "Python 3 (ipykernel)",
   "language": "python",
   "name": "python3"
  },
  "language_info": {
   "codemirror_mode": {
    "name": "ipython",
    "version": 3
   },
   "file_extension": ".py",
   "mimetype": "text/x-python",
   "name": "python",
   "nbconvert_exporter": "python",
   "pygments_lexer": "ipython3",
   "version": "3.11.4"
  }
 },
 "nbformat": 4,
 "nbformat_minor": 5
}
