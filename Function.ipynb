{
 "cells": [
  {
   "cell_type": "markdown",
   "id": "46aab3a9",
   "metadata": {},
   "source": [
    "# Function"
   ]
  },
  {
   "cell_type": "markdown",
   "id": "9b7a635b",
   "metadata": {},
   "source": [
    "## Writing great functions in Python\n",
    "\n",
    "As a programmer, you will spend most of your time writing and using functions. Python offers many features to make your functions powerful and flexible. Let's explore some of these by solving a problem:\n",
    "\n",
    "> Radha is planning to buy a house that costs `$1,260,000`. She considering two options to finance her purchase:\n",
    ">\n",
    "> * Option 1: Make an immediate down payment of `$300,000`, and take loan 8-year loan with an interest rate of 10% (compounded monthly) for the remaining amount.\n",
    "> * Option 2: Take a 10-year loan with an interest rate of 8% (compounded monthly) for the entire amount.\n",
    ">\n",
    "> Both these loans have to be paid back in equal monthly installments (EMIs). Which loan has a lower EMI among the two?\n",
    "\n",
    "\n",
    "Since we need to compare the EMIs for two loan options, defining a function to calculate the EMI for a loan would be a great idea.  The inputs to the function would be cost of the house, the down payment, duration of the loan, rate of interest etc. We'll build this function step by step.\n",
    "\n",
    "First, let's write a simple function that calculates the EMI on the entire cost of the house, assuming that the loan must be paid back in one year, and there is no interest or down payment."
   ]
  },
  {
   "cell_type": "code",
   "execution_count": 1,
   "id": "70b88508",
   "metadata": {},
   "outputs": [],
   "source": [
    "def loan_emi(amount):\n",
    "    emi = amount/12\n",
    "    print(f\"The EMI is ${emi}\")"
   ]
  },
  {
   "cell_type": "code",
   "execution_count": 2,
   "id": "88ef2cc4",
   "metadata": {},
   "outputs": [
    {
     "name": "stdout",
     "output_type": "stream",
     "text": [
      "The EMI is $105000.0\n"
     ]
    }
   ],
   "source": [
    "loan_emi(1260000)"
   ]
  },
  {
   "cell_type": "code",
   "execution_count": 3,
   "id": "72ae67dc",
   "metadata": {},
   "outputs": [],
   "source": [
    "def loan_emi(amount,period):\n",
    "    emi=amount/period\n",
    "    print(f\"The EMI is ${emi}\")"
   ]
  },
  {
   "cell_type": "markdown",
   "id": "7428d53f",
   "metadata": {},
   "source": [
    "We can now compare a 8-year loan vs. a 10-year loan (assuming no down payment or interest)."
   ]
  },
  {
   "cell_type": "code",
   "execution_count": 4,
   "id": "312f0477",
   "metadata": {},
   "outputs": [
    {
     "name": "stdout",
     "output_type": "stream",
     "text": [
      "The EMI is $13125.0\n"
     ]
    }
   ],
   "source": [
    "loan_emi(1260000,8*12)"
   ]
  },
  {
   "cell_type": "code",
   "execution_count": 5,
   "id": "a82c82c7",
   "metadata": {},
   "outputs": [
    {
     "name": "stdout",
     "output_type": "stream",
     "text": [
      "The EMI is $10500.0\n"
     ]
    }
   ],
   "source": [
    "loan_emi(1260000,10*12)"
   ]
  },
  {
   "cell_type": "markdown",
   "id": "5e0c2451",
   "metadata": {},
   "source": [
    "### Return values\n",
    "\n",
    "As you might expect, the EMI for the 8-year loan is higher compared to the 10-year loan. Right now, we're printing out the result. It would be better to return it and store the results in variables for easier comparison. We can do this using the `return` statement"
   ]
  },
  {
   "cell_type": "code",
   "execution_count": 6,
   "id": "85d0f88f",
   "metadata": {},
   "outputs": [],
   "source": [
    "def loan_emi(amount,period):\n",
    "    emi=amount/period\n",
    "    return emi"
   ]
  },
  {
   "cell_type": "code",
   "execution_count": 7,
   "id": "e78d1244",
   "metadata": {},
   "outputs": [],
   "source": [
    "emi1 = loan_emi(1260000,8*12)"
   ]
  },
  {
   "cell_type": "code",
   "execution_count": 8,
   "id": "b77f557e",
   "metadata": {},
   "outputs": [],
   "source": [
    "emi2= loan_emi(1260000,10*12)"
   ]
  },
  {
   "cell_type": "code",
   "execution_count": 9,
   "id": "db774b23",
   "metadata": {},
   "outputs": [
    {
     "data": {
      "text/plain": [
       "13125.0"
      ]
     },
     "execution_count": 9,
     "metadata": {},
     "output_type": "execute_result"
    }
   ],
   "source": [
    "emi1"
   ]
  },
  {
   "cell_type": "markdown",
   "id": "46788185",
   "metadata": {},
   "source": [
    "### Optional arguments\n",
    "\n",
    "Next, let's add another argument to account for the immediate down payment. We'll make this an *optional argument* with a default value of 0."
   ]
  },
  {
   "cell_type": "code",
   "execution_count": 10,
   "id": "92a3aa99",
   "metadata": {},
   "outputs": [],
   "source": [
    "def loan_emi(amount,period,down_payment=0):\n",
    "    loan_amount=amount-down_payment\n",
    "    emi = loan_amount / period\n",
    "    return emi"
   ]
  },
  {
   "cell_type": "code",
   "execution_count": 11,
   "id": "e7a8361d",
   "metadata": {},
   "outputs": [],
   "source": [
    "emi1 = loan_emi(1260000,8*12,3e5)"
   ]
  },
  {
   "cell_type": "code",
   "execution_count": 12,
   "id": "4061707f",
   "metadata": {},
   "outputs": [],
   "source": [
    "emi2 = loan_emi(1260000,10*12)"
   ]
  },
  {
   "cell_type": "code",
   "execution_count": 13,
   "id": "2027dbe6",
   "metadata": {},
   "outputs": [
    {
     "data": {
      "text/plain": [
       "10000.0"
      ]
     },
     "execution_count": 13,
     "metadata": {},
     "output_type": "execute_result"
    }
   ],
   "source": [
    "emi1"
   ]
  },
  {
   "cell_type": "code",
   "execution_count": 14,
   "id": "4c7934fb",
   "metadata": {},
   "outputs": [
    {
     "data": {
      "text/plain": [
       "10500.0"
      ]
     },
     "execution_count": 14,
     "metadata": {},
     "output_type": "execute_result"
    }
   ],
   "source": [
    "emi2"
   ]
  },
  {
   "cell_type": "markdown",
   "id": "8a694fb2",
   "metadata": {},
   "source": [
    "Next, let's add the interest calculation into the function. Here's the formula used to calculate the EMI for a loan:\n",
    "\n",
    "<img src=\"https://i.imgur.com/iKujHGK.png\" style=\"width:240px\">\n",
    "\n",
    "where:\n",
    "\n",
    "* `P` is the loan amount (principal)\n",
    "* `n` is the no. of months\n",
    "* `r` is the rate of interest per month\n",
    "\n",
    "The derivation of this formula is beyond the scope of this tutorial. See this video for an explanation: https://youtu.be/Coxza9ugW4E ."
   ]
  },
  {
   "cell_type": "code",
   "execution_count": 15,
   "id": "9c3bbe1f",
   "metadata": {},
   "outputs": [],
   "source": [
    "def loan_emi(amount,duration,rate,down_payment=0):\n",
    "    loan_amount=amount-down_payment\n",
    "    emi = (loan_amount*rate*((1+rate)**duration))/(((1+rate)**duration)-1)\n",
    "    return emi"
   ]
  },
  {
   "cell_type": "markdown",
   "id": "713c6c7c",
   "metadata": {},
   "source": [
    "Note that while defining the function, required arguments like `cost`, `duration` and `rate` must appear before optional arguments like `down_payment`.\n",
    "\n",
    "Let's calculate the EMI for Option 1"
   ]
  },
  {
   "cell_type": "code",
   "execution_count": 16,
   "id": "b96bcda5",
   "metadata": {},
   "outputs": [],
   "source": [
    "emi1 = loan_emi(1260000,8*12,0.1/12,3e5)"
   ]
  },
  {
   "cell_type": "code",
   "execution_count": 17,
   "id": "1260cc7c",
   "metadata": {},
   "outputs": [
    {
     "data": {
      "text/plain": [
       "14567.19753389219"
      ]
     },
     "execution_count": 17,
     "metadata": {},
     "output_type": "execute_result"
    }
   ],
   "source": [
    "emi1"
   ]
  },
  {
   "cell_type": "code",
   "execution_count": 18,
   "id": "da3401fd",
   "metadata": {},
   "outputs": [],
   "source": [
    "emi2 = loan_emi(1260000,10*12,0.08/12)"
   ]
  },
  {
   "cell_type": "code",
   "execution_count": 19,
   "id": "3a62fd82",
   "metadata": {
    "scrolled": true
   },
   "outputs": [
    {
     "data": {
      "text/plain": [
       "15287.276888775077"
      ]
     },
     "execution_count": 19,
     "metadata": {},
     "output_type": "execute_result"
    }
   ],
   "source": [
    "emi2"
   ]
  },
  {
   "cell_type": "markdown",
   "id": "92477ffd",
   "metadata": {},
   "source": [
    "### Named arguments\n",
    "\n",
    "Invoking a function with many arguments can often get confusing and is prone to human errors. Python provides the option of invoking functions with *named* arguments for better clarity. You can also split function invocation into multiple lines."
   ]
  },
  {
   "cell_type": "code",
   "execution_count": 20,
   "id": "30d78216",
   "metadata": {},
   "outputs": [],
   "source": [
    "emi1 = loan_emi(amount=1260000,duration=8*12,rate=0.1/12,down_payment=3e5)"
   ]
  },
  {
   "cell_type": "code",
   "execution_count": 21,
   "id": "0646813b",
   "metadata": {},
   "outputs": [
    {
     "data": {
      "text/plain": [
       "14567.19753389219"
      ]
     },
     "execution_count": 21,
     "metadata": {},
     "output_type": "execute_result"
    }
   ],
   "source": [
    "emi1"
   ]
  },
  {
   "cell_type": "code",
   "execution_count": 22,
   "id": "40a20757",
   "metadata": {},
   "outputs": [],
   "source": [
    "emi2 = loan_emi(amount = 1260000,duration = 10*12,rate=0.08/12)"
   ]
  },
  {
   "cell_type": "markdown",
   "id": "5c22cde2",
   "metadata": {},
   "source": [
    "### Modules and library functions\n",
    "\n",
    "We can already see that the EMI for Option 1 is lower than the EMI for Option 2. However, it would be nice to round up the amount to full dollars, rather than showing digits after the decimal. To achieve this, we might want to write a function that can take a number and round it up to the next integer (e.g., 1.2 is rounded up to 2). That would be a great exercise to try out!\n",
    "\n",
    "However, since rounding numbers is a fairly common operation, Python provides a function for it (along with thousands of other functions) as part of the [Python Standard Library](https://docs.python.org/3/library/). Functions are organized into *modules* that need to be imported to use the functions they contain. \n",
    "\n",
    "> **Modules**: Modules are files containing Python code (variables, functions, classes, etc.). They provide a way of organizing the code for large Python projects into files and folders. The key benefit of using modules is _namespaces_: you must import the module to use its functions within a Python script or notebook. Namespaces provide encapsulation and avoid naming conflicts between your code and a module or across modules.\n",
    "\n",
    "We can use the `ceil` function (short for *ceiling*) from the `math` module to round up numbers. Let's import the module and use it to round up the number `1.2`. "
   ]
  },
  {
   "cell_type": "code",
   "execution_count": 23,
   "id": "dbd7f760",
   "metadata": {},
   "outputs": [],
   "source": [
    "import math"
   ]
  },
  {
   "cell_type": "code",
   "execution_count": 24,
   "id": "b771e4e7",
   "metadata": {},
   "outputs": [
    {
     "name": "stdout",
     "output_type": "stream",
     "text": [
      "Help on built-in function ceil in module math:\n",
      "\n",
      "ceil(x, /)\n",
      "    Return the ceiling of x as an Integral.\n",
      "    \n",
      "    This is the smallest integer >= x.\n",
      "\n"
     ]
    }
   ],
   "source": [
    "help(math.ceil)"
   ]
  },
  {
   "cell_type": "code",
   "execution_count": 25,
   "id": "c5a59fc3",
   "metadata": {},
   "outputs": [
    {
     "data": {
      "text/plain": [
       "2"
      ]
     },
     "execution_count": 25,
     "metadata": {},
     "output_type": "execute_result"
    }
   ],
   "source": [
    "math.ceil(1.2)"
   ]
  },
  {
   "cell_type": "code",
   "execution_count": 26,
   "id": "5e8d9c6f",
   "metadata": {},
   "outputs": [],
   "source": [
    "def loan_emi(amount,duration,rate,down_payment=0):\n",
    "    loan_amount=amount-down_payment\n",
    "    emi = (loan_amount*rate*((1+rate)**duration))/(((1+rate)**duration)-1)\n",
    "    emi = math.ceil(emi)\n",
    "    return emi"
   ]
  },
  {
   "cell_type": "code",
   "execution_count": 27,
   "id": "d743994a",
   "metadata": {},
   "outputs": [],
   "source": [
    "emi1 = loan_emi(amount=1260000,duration=8*12,rate=0.1/12,down_payment=3e5)"
   ]
  },
  {
   "cell_type": "code",
   "execution_count": 28,
   "id": "9d727839",
   "metadata": {},
   "outputs": [
    {
     "data": {
      "text/plain": [
       "14568"
      ]
     },
     "execution_count": 28,
     "metadata": {},
     "output_type": "execute_result"
    }
   ],
   "source": [
    "emi1"
   ]
  },
  {
   "cell_type": "code",
   "execution_count": 29,
   "id": "cf94266a",
   "metadata": {},
   "outputs": [],
   "source": [
    "emi2 = loan_emi(amount = 1260000,duration = 10*12,rate=0.08/12)"
   ]
  },
  {
   "cell_type": "code",
   "execution_count": 30,
   "id": "f4e20390",
   "metadata": {},
   "outputs": [
    {
     "data": {
      "text/plain": [
       "15288"
      ]
     },
     "execution_count": 30,
     "metadata": {},
     "output_type": "execute_result"
    }
   ],
   "source": [
    "emi2"
   ]
  },
  {
   "cell_type": "code",
   "execution_count": 31,
   "id": "135314bb",
   "metadata": {},
   "outputs": [
    {
     "name": "stdout",
     "output_type": "stream",
     "text": [
      "Option 1 has lower EMI : $14568\n"
     ]
    }
   ],
   "source": [
    "if(emi1<emi2):\n",
    "    print(f\"Option 1 has lower EMI : ${emi1}\")\n",
    "else:\n",
    "    print(f\"Option 2 has lower EMI : ${emi2}\")"
   ]
  },
  {
   "cell_type": "markdown",
   "id": "4968e52b",
   "metadata": {},
   "source": [
    "### Reusing and improving functions \n",
    "\n",
    "Now we know for sure that \"Option 1\" has the lower EMI among the two options. But what's even better is that we now have a handy function `loan_emi` that we can use to solve many other similar problems with just a few lines of code. Let's try it with a couple more questions."
   ]
  },
  {
   "cell_type": "markdown",
   "id": "8fea6bb9",
   "metadata": {},
   "source": [
    "> **Q**: Shaun is currently paying back a home loan for a house he bought a few years ago. The cost of the house was `$800,000`. Shaun made a down payment of `25%` of the price. He financed the remaining amount using a 6-year loan with an interest rate of `7%` per annum (compounded monthly). Shaun is now buying a car worth `$60,000`, which he is planning to finance using a 1-year loan with an interest rate of `12%` per annum. Both loans are paid back in EMIs. What is the total monthly payment Shaun makes towards loan repayment?\n",
    "\n",
    "This question is now straightforward to solve, using the `loan_emi` function we've already defined."
   ]
  },
  {
   "cell_type": "code",
   "execution_count": 32,
   "id": "fbd270b0",
   "metadata": {},
   "outputs": [
    {
     "name": "stdout",
     "output_type": "stream",
     "text": [
      "Monthly payment Shaun makes towards Home loan repayment : $10230\n",
      "Monthly payment Shaun makes towards Car loan repayment : $5331\n",
      "The total monthly payment Shaun makes towards loan repayment : $15561\n"
     ]
    }
   ],
   "source": [
    "cost_of_house = 800000\n",
    "home_down_payment = cost_of_house*0.25\n",
    "home_loan_duration = 6*12\n",
    "home_loan_rate = 0.07/12\n",
    "\n",
    "cost_of_car = 60000\n",
    "car_loan_duration = 1*12\n",
    "car_loan_rate = 0.12/12\n",
    "\n",
    "home_loan_emi = loan_emi(amount = cost_of_house,duration = home_loan_duration,rate = home_loan_rate,down_payment = home_down_payment)\n",
    "car_loan_emi =  loan_emi(amount = cost_of_car,duration = car_loan_duration ,rate=car_loan_rate)\n",
    "\n",
    "total_emi = home_loan_emi + car_loan_emi\n",
    "\n",
    "print(f\"Monthly payment Shaun makes towards Home loan repayment : ${home_loan_emi}\")\n",
    "print(f\"Monthly payment Shaun makes towards Car loan repayment : ${car_loan_emi}\")\n",
    "print(f\"The total monthly payment Shaun makes towards loan repayment : ${total_emi}\")"
   ]
  },
  {
   "cell_type": "markdown",
   "id": "ca3b3755",
   "metadata": {},
   "source": [
    "### Exceptions and `try`-`except`\n",
    "\n",
    "> Q: If you borrow `$100,000` using a 10-year loan with an interest rate of 9% per annum, what is the total amount you end up paying as interest?\n",
    "\n",
    "One way to solve this problem is to compare the EMIs for two loans: one with the given rate of interest and another with a 0% rate of interest. The total interest paid is then simply the sum of monthly differences over the duration of the loan."
   ]
  },
  {
   "cell_type": "code",
   "execution_count": 33,
   "id": "89210ebd",
   "metadata": {},
   "outputs": [
    {
     "data": {
      "text/plain": [
       "1267"
      ]
     },
     "execution_count": 33,
     "metadata": {},
     "output_type": "execute_result"
    }
   ],
   "source": [
    "emi_with_interest = loan_emi(amount=100000, duration=10*12, rate=0.09/12)\n",
    "emi_with_interest"
   ]
  },
  {
   "cell_type": "code",
   "execution_count": 34,
   "id": "d516e7c9",
   "metadata": {},
   "outputs": [
    {
     "ename": "ZeroDivisionError",
     "evalue": "float division by zero",
     "output_type": "error",
     "traceback": [
      "\u001b[1;31m---------------------------------------------------------------------------\u001b[0m",
      "\u001b[1;31mZeroDivisionError\u001b[0m                         Traceback (most recent call last)",
      "Cell \u001b[1;32mIn[34], line 1\u001b[0m\n\u001b[1;32m----> 1\u001b[0m emi_without_interest \u001b[38;5;241m=\u001b[39m loan_emi(amount\u001b[38;5;241m=\u001b[39m\u001b[38;5;241m100000\u001b[39m, duration\u001b[38;5;241m=\u001b[39m\u001b[38;5;241m10\u001b[39m\u001b[38;5;241m*\u001b[39m\u001b[38;5;241m12\u001b[39m, rate\u001b[38;5;241m=\u001b[39m\u001b[38;5;241m0.\u001b[39m\u001b[38;5;241m/\u001b[39m\u001b[38;5;241m12\u001b[39m)\n\u001b[0;32m      2\u001b[0m emi_without_interest\n",
      "Cell \u001b[1;32mIn[26], line 3\u001b[0m, in \u001b[0;36mloan_emi\u001b[1;34m(amount, duration, rate, down_payment)\u001b[0m\n\u001b[0;32m      1\u001b[0m \u001b[38;5;28;01mdef\u001b[39;00m \u001b[38;5;21mloan_emi\u001b[39m(amount,duration,rate,down_payment\u001b[38;5;241m=\u001b[39m\u001b[38;5;241m0\u001b[39m):\n\u001b[0;32m      2\u001b[0m     loan_amount\u001b[38;5;241m=\u001b[39mamount\u001b[38;5;241m-\u001b[39mdown_payment\n\u001b[1;32m----> 3\u001b[0m     emi \u001b[38;5;241m=\u001b[39m (loan_amount\u001b[38;5;241m*\u001b[39mrate\u001b[38;5;241m*\u001b[39m((\u001b[38;5;241m1\u001b[39m\u001b[38;5;241m+\u001b[39mrate)\u001b[38;5;241m*\u001b[39m\u001b[38;5;241m*\u001b[39mduration))\u001b[38;5;241m/\u001b[39m(((\u001b[38;5;241m1\u001b[39m\u001b[38;5;241m+\u001b[39mrate)\u001b[38;5;241m*\u001b[39m\u001b[38;5;241m*\u001b[39mduration)\u001b[38;5;241m-\u001b[39m\u001b[38;5;241m1\u001b[39m)\n\u001b[0;32m      4\u001b[0m     emi \u001b[38;5;241m=\u001b[39m math\u001b[38;5;241m.\u001b[39mceil(emi)\n\u001b[0;32m      5\u001b[0m     \u001b[38;5;28;01mreturn\u001b[39;00m emi\n",
      "\u001b[1;31mZeroDivisionError\u001b[0m: float division by zero"
     ]
    }
   ],
   "source": [
    "emi_without_interest = loan_emi(amount=100000, duration=10*12, rate=0./12)\n",
    "emi_without_interest"
   ]
  },
  {
   "cell_type": "markdown",
   "id": "0fe73f8a",
   "metadata": {},
   "source": [
    "Something seems to have gone wrong! If you look at the error message above carefully, Python tells us precisely what is wrong. Python *throws* a `ZeroDivisionError` with a message indicating that we're trying to divide a number by zero. `ZeroDivisonError` is an *exception* that stops further execution of the program.\n",
    "\n",
    "> **Exception**: Even if a statement or expression is syntactically correct, it may cause an error when the Python interpreter tries to execute it. Errors detected during execution are called exceptions. Exceptions typically stop further execution of the program unless handled within the program using `try`-`except` statements.\n",
    "\n",
    "Python provides many built-in exceptions *thrown* when built-in operators, functions, or methods are used incorrectly: https://docs.python.org/3/library/exceptions.html#built-in-exceptions. You can also define your custom exception by extending the `Exception` class (more on that later).\n",
    "\n",
    "You can use the `try` and `except` statements to *handle* an exception. Here's an example:"
   ]
  },
  {
   "cell_type": "code",
   "execution_count": 35,
   "id": "78d5aa59",
   "metadata": {},
   "outputs": [
    {
     "name": "stdout",
     "output_type": "stream",
     "text": [
      "Now computing the result..\n",
      "Failed to compute result because you were trying to divide by zero\n",
      "None\n"
     ]
    }
   ],
   "source": [
    "try:\n",
    "    print(\"Now computing the result..\")\n",
    "    result = 5 / 0\n",
    "    print(\"Computation was completed successfully\")\n",
    "except ZeroDivisionError:\n",
    "    print(\"Failed to compute result because you were trying to divide by zero\")\n",
    "    result = None\n",
    "\n",
    "print(result)"
   ]
  },
  {
   "cell_type": "markdown",
   "id": "1ad7a52e",
   "metadata": {},
   "source": [
    "When an exception occurs inside a `try` block, the block's remaining statements are skipped. The `except` block is executed if the type of exception thrown matches that of the exception being handled. After executing the `except` block, the program execution returns to the normal flow.\n",
    "\n",
    "You can also handle more than one type of exception using multiple `except` statements. Learn more about exceptions here: https://www.w3schools.com/python/python_try_except.asp .\n",
    "\n",
    "Let's enhance the `loan_emi` function to use `tr\n",
    "y`-`except` to handle the scenario where the interest rate is 0%. It's common practice to make changes/enhancements to functions over time as new scenarios and use cases come up. It makes functions more robust & versatile.\n"
   ]
  },
  {
   "cell_type": "code",
   "execution_count": 36,
   "id": "8094e06b",
   "metadata": {},
   "outputs": [],
   "source": [
    "def loan_emi(amount, duration, rate, down_payment=0):\n",
    "    loan_amount = amount - down_payment\n",
    "    try:\n",
    "        emi = loan_amount * rate * ((1+rate)**duration) / (((1+rate)**duration)-1)\n",
    "    except ZeroDivisionError:\n",
    "        emi = loan_amount / duration\n",
    "    emi = math.ceil(emi)\n",
    "    return emi"
   ]
  },
  {
   "cell_type": "markdown",
   "id": "ea40e26f",
   "metadata": {},
   "source": [
    "We can use the updated `loan_emi` function to solve our problem.\n",
    "\n",
    "> **Q**: If you borrow `$100,000` using a 10-year loan with an interest rate of 9% per annum, what is the total amount you end up paying as interest?\n"
   ]
  },
  {
   "cell_type": "code",
   "execution_count": 37,
   "id": "6ddae4c8",
   "metadata": {},
   "outputs": [
    {
     "data": {
      "text/plain": [
       "1267"
      ]
     },
     "execution_count": 37,
     "metadata": {},
     "output_type": "execute_result"
    }
   ],
   "source": [
    "emi_with_interest = loan_emi(amount=100000, duration=10*12, rate=0.09/12)\n",
    "emi_with_interest"
   ]
  },
  {
   "cell_type": "code",
   "execution_count": 38,
   "id": "eddae25e",
   "metadata": {},
   "outputs": [
    {
     "data": {
      "text/plain": [
       "834"
      ]
     },
     "execution_count": 38,
     "metadata": {},
     "output_type": "execute_result"
    }
   ],
   "source": [
    "emi_without_interest = loan_emi(amount=100000, duration=10*12, rate=0)\n",
    "emi_without_interest"
   ]
  },
  {
   "cell_type": "code",
   "execution_count": 39,
   "id": "6ed24aad",
   "metadata": {},
   "outputs": [],
   "source": [
    "total_interest = (emi_with_interest - emi_without_interest) * 10*12"
   ]
  },
  {
   "cell_type": "code",
   "execution_count": 40,
   "id": "3321e99e",
   "metadata": {},
   "outputs": [
    {
     "name": "stdout",
     "output_type": "stream",
     "text": [
      "The total interest paid is $51960.\n"
     ]
    }
   ],
   "source": [
    "print(\"The total interest paid is ${}.\".format(total_interest))"
   ]
  },
  {
   "cell_type": "markdown",
   "id": "c6f6bb89",
   "metadata": {},
   "source": [
    "### Documenting functions using Docstrings\n",
    "\n",
    "We can add some documentation within our function using a *docstring*. A docstring is simply a string that appears as the first statement within the function body, and is used by the `help` function. A good docstring describes what the function does, and provides some explanation about the arguments."
   ]
  },
  {
   "cell_type": "code",
   "execution_count": 41,
   "id": "9a616663",
   "metadata": {},
   "outputs": [],
   "source": [
    "def loan_emi(amount, duration, rate, down_payment=0):\n",
    "    \"\"\"Calculates the equal montly installment (EMI) for a loan.\n",
    "    \n",
    "    Arguments:\n",
    "        amount - Total amount to be spent (loan + down payment)\n",
    "        duration - Duration of the loan (in months)\n",
    "        rate - Rate of interest (monthly)\n",
    "        down_payment (optional) - Optional intial payment (deducted from amount)\n",
    "    \"\"\"\n",
    "    loan_amount = amount - down_payment\n",
    "    try:\n",
    "        emi = loan_amount * rate * ((1+rate)**duration) / (((1+rate)**duration)-1)\n",
    "    except ZeroDivisionError:\n",
    "        emi = loan_amount / duration\n",
    "    emi = math.ceil(emi)\n",
    "    return emi"
   ]
  },
  {
   "cell_type": "markdown",
   "id": "b78290d1",
   "metadata": {},
   "source": [
    "In the docstring above, we've provided some additional information that the `duration` and `rate` are measured in months. You might even consider naming the arguments `duration_months` and `rate_monthly`, to avoid any confusion whatsoever. Can you think of some other ways to improve the function?"
   ]
  },
  {
   "cell_type": "code",
   "execution_count": 42,
   "id": "1f1af30d",
   "metadata": {},
   "outputs": [
    {
     "name": "stdout",
     "output_type": "stream",
     "text": [
      "Help on function loan_emi in module __main__:\n",
      "\n",
      "loan_emi(amount, duration, rate, down_payment=0)\n",
      "    Calculates the equal montly installment (EMI) for a loan.\n",
      "    \n",
      "    Arguments:\n",
      "        amount - Total amount to be spent (loan + down payment)\n",
      "        duration - Duration of the loan (in months)\n",
      "        rate - Rate of interest (monthly)\n",
      "        down_payment (optional) - Optional intial payment (deducted from amount)\n",
      "\n"
     ]
    }
   ],
   "source": [
    "help(loan_emi)"
   ]
  }
 ],
 "metadata": {
  "kernelspec": {
   "display_name": "Python 3 (ipykernel)",
   "language": "python",
   "name": "python3"
  },
  "language_info": {
   "codemirror_mode": {
    "name": "ipython",
    "version": 3
   },
   "file_extension": ".py",
   "mimetype": "text/x-python",
   "name": "python",
   "nbconvert_exporter": "python",
   "pygments_lexer": "ipython3",
   "version": "3.11.4"
  }
 },
 "nbformat": 4,
 "nbformat_minor": 5
}
